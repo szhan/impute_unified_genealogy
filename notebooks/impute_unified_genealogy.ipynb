{
 "cells": [
  {
   "cell_type": "markdown",
   "id": "3e5febcc",
   "metadata": {},
   "source": [
    "# impute_unified_genealogy"
   ]
  },
  {
   "cell_type": "code",
   "execution_count": null,
   "id": "b11241d0",
   "metadata": {},
   "outputs": [],
   "source": [
    "# python impute_unified_genealogy.py\n",
    "# -t input.trees\n",
    "# -i input vcf (sites to impute)\n",
    "# -o output vcf (imputed sites)"
   ]
  },
  {
   "cell_type": "code",
   "execution_count": null,
   "id": "0aa54846",
   "metadata": {},
   "outputs": [],
   "source": [
    "# Ancient genome imputation:\n",
    "# 1. Take the unified whole-genome genealogy from Wohns et al. (2022).\n",
    "# 2. Get an ancestors ts from it. (Keep leaves or not? Try both).\n",
    "# 3. Get `.samples` file from input VCF.\n",
    "# 4. match_samples = output ts\n",
    "# 5. ts.write_vcf()\n",
    "# \n",
    "# Bonus: try it on new 1KG Project data (phase 3) and evaluate using IQS."
   ]
  },
  {
   "cell_type": "markdown",
   "id": "d86bce4f",
   "metadata": {},
   "source": [
    "### Downloading the unified genealogy"
   ]
  },
  {
   "cell_type": "code",
   "execution_count": null,
   "id": "496ac687",
   "metadata": {},
   "outputs": [],
   "source": [
    "# \"[A] unified tree sequence of 3601 modern and eight high-coverage ancient human genome sequences\n",
    "# compiled from eight datasets. This structure is a lossless and compact representation of\n",
    "# 27 million ancestral haplotype fragments and 231 million ancestral lineages linking genomes\n",
    "# from these datasets back in time.\n",
    "# \n",
    "# Modern genomes:\n",
    "# a. 1000 Genomes\n",
    "# b. Human Genome Diversity\n",
    "# c. Simons Genome Diversity\n",
    "# \n",
    "# Trees:\n",
    "# a. Without ancient genomes (https://zenodo.org/record/5495535#.YuGjXi8w08R)\n",
    "# b. With ancient genomes (https://zenodo.org/record/5512994#.YuGj4S8w08R)\n",
    "# \n",
    "# Human reference: GRCh38"
   ]
  },
  {
   "cell_type": "code",
   "execution_count": 1,
   "id": "cda4c280",
   "metadata": {},
   "outputs": [
    {
     "name": "stdout",
     "output_type": "stream",
     "text": [
      "The short arm of chr20 contains 58756 trees.\n",
      "The long arm of chr20 contains 74301 trees.\n"
     ]
    }
   ],
   "source": [
    "import tskit\n",
    "\n",
    "# Load the tree sequences of the p- and q-arms of chr20.\n",
    "data_dir = \"../data/ref_panel/\"\n",
    "\n",
    "contig_id = \"chr20\"\n",
    "\n",
    "ts_p_file = data_dir + \"hgdp_tgp_sgdp_\" + contig_id + \"_\" + \"p\" + \".dated.trees\"\n",
    "ts_q_file = data_dir + \"hgdp_tgp_sgdp_\" + contig_id + \"_\" + \"q\" + \".dated.trees\"\n",
    "\n",
    "import tskit\n",
    "ts_p = tskit.load(ts_p_file)\n",
    "ts_q = tskit.load(ts_q_file)\n",
    "\n",
    "print(f\"The short arm of chr20 contains {ts_p.num_trees} trees.\")\n",
    "print(f\"The long arm of chr20 contains {ts_q.num_trees} trees.\")"
   ]
  },
  {
   "cell_type": "code",
   "execution_count": 2,
   "id": "466ed2fb",
   "metadata": {},
   "outputs": [],
   "source": [
    "import tsinfer\n",
    "\n",
    "ts_p_anc = tsinfer.eval_util.make_ancestors_ts(ts_p)\n",
    "ts_q_anc = tsinfer.eval_util.make_ancestors_ts(ts_q)"
   ]
  },
  {
   "cell_type": "code",
   "execution_count": 1,
   "id": "21831f27",
   "metadata": {},
   "outputs": [],
   "source": [
    "import cyvcf2\n",
    "import numpy as np"
   ]
  },
  {
   "cell_type": "code",
   "execution_count": 2,
   "id": "23031cff",
   "metadata": {},
   "outputs": [],
   "source": [
    "# Simulated data from 48 high coverage shotgun (SG) samples.\n",
    "# \n",
    "# Annotation file:\n",
    "# http://genomebrowser-uploads.hms.harvard.edu/data/aa681/tmp/anno.sim.tsv\n",
    "# \n",
    "# Simulated data files:\n",
    "# http://genomebrowser-uploads.hms.harvard.edu/data/aa681/tmp/simulations.tar\n",
    "# \n",
    "# MD5 checksum:\n",
    "# 3a98628e5c8015b3da4664837568e14c  simulations.tar\n",
    "# e332d36afc87431d08453bc66b0eee28  anno.sim.tsv\n",
    "# \n",
    "# File size:\n",
    "# 8.1K anno.sim.tsv\n",
    "# 166G simulations.tar\n",
    "# \n",
    "# There are 374 bcf files, each with 48 samples.\n",
    "# I have simulated both SG and 1240k for 22 autosomes and for 8 different coverages.\n",
    "# \n",
    "# */merged/{DT}/DP{DP}/chr{CHROM}.bcf\n",
    "# \n",
    "# DT in [SG, 1240k]\n",
    "# DP in [0.01, 0.05, 0.1, 0.2, 0.5, 1, 2, 5]\n",
    "# CHROM in [1,2,...,22]\n",
    "# \n",
    "# Imputed version of the original sample is also available from\n",
    "#   */merged/SG/DPmax/chr{CHROM}.bcf\n",
    "# \n",
    "# All 4 members of Afanasievo family are also included in this list:\n",
    "#   Mother I3388.SG\n",
    "#   Father I3950.SG\n",
    "#   Son 1 I3949.SG\n",
    "#   Son 2 I6714.SG\n",
    "# \n",
    "# Please note that coverage is >20x, except for an individual from Afanasievo family with ~10x coverage (I3388.SG).  \n",
    "# \n",
    "# Imputed file format is BCF with following fields:\n",
    "# \n",
    "# Generated by GLIMPSE:\n",
    "#   GT: Phased and imputed genotypes\n",
    "#   DS: Genotype dosage\n",
    "#   GP: Genotype posteriors\n",
    "#\n",
    "# Generated by genotype caller (mpileup):\n",
    "#   PL: Phred-scaled genotype likelihoods\n",
    "#   AD: Allelic depths (high-quality bases)\n",
    "# \n",
    "# * Note that PL and AD are available when the target variant is covered by at least 1 read otherwise, their value is missed.\n",
    "# * To minimize the reference bias, only PL of SNPs are used to build imputation model for both SNPs and indels.\n",
    "#   Nevertheless, PL and AD for indels are also reported in the output."
   ]
  },
  {
   "cell_type": "code",
   "execution_count": 3,
   "id": "c29081c9",
   "metadata": {},
   "outputs": [],
   "source": [
    "data_dir = \"/Users/szhan/Projects/impute_unified_genealogy/data/simulated/\"\n",
    "bcf_file = data_dir + \"merged/SG/DPmax/\" + \"chr20.bcf\""
   ]
  },
  {
   "cell_type": "code",
   "execution_count": 29,
   "id": "2f6b55e6",
   "metadata": {},
   "outputs": [],
   "source": [
    "\"\"\"\n",
    "Obtain VCF with missing genotypes from a GLIMPSE imputed VCF file.\n",
    "Since sequencing coverage in ancient WGS data is often too low for phasing,\n",
    "the genotypes in the rebuilt VCF are all represented as haploid.\n",
    "\n",
    "The following numbers are denoted as:\n",
    "0 = REF\n",
    "1 = ALT\n",
    "2 = UNKNOWN\n",
    "\n",
    "Per-sample genotypes are assigned UNKNOWN if at least one condition is met:\n",
    "1. Non-SNP;\n",
    "2. Total depth is 0;\n",
    "3. Total depth is -1; and\n",
    "4. Ref. depth is equal to alt. depth (ambiguous read support).\n",
    "\"\"\"\n",
    "\n",
    "out_vcf_file = \"test.bcf.gz\"\n",
    "is_verbose = False\n",
    "\n",
    "REF_GENOTYPE = (0, False,)\n",
    "ALT_GENOTYPE = (1, False,)\n",
    "UNK_GENOTYPE = (2, False,) # Unknown (strict_gt=True scheme)\n",
    "\n",
    "num_sites = 0 # Total number of variable sites\n",
    "num_snps = 0\n",
    "num_indels = 0\n",
    "num_svs = 0\n",
    "\n",
    "vcf = cyvcf2.VCF(bcf_file, strict_gt=True)\n",
    "w = cyvcf2.Writer(out_vcf_file, tmpl=vcf, mode=\"wb\")\n",
    "\n",
    "for v in vcf:\n",
    "    # default:\n",
    "    #   0=HOM_REF, 1=HET, 2=HOM_ALT, 3=UNKNOWN\n",
    "    # strict_gt=True:\n",
    "    #   0=HOM_REF, 1=HET, 2=UNKNOWN, 3=HOM_ALT\n",
    "\n",
    "    num_sites += 1\n",
    "    num_snps = num_snps + 1 if v.is_snp else num_snps\n",
    "    num_indels = num_indels + 1 if v.is_indel else num_indels\n",
    "    num_svs = num_svs + 1 if v.is_sv else num_svs\n",
    "\n",
    "    REF_DP = v.gt_ref_depths\n",
    "    ALT_DP = v.gt_alt_depths\n",
    "    TOT_DP = v.gt_depths\n",
    "\n",
    "    num_samples = v.num_called + v.num_unknown\n",
    "    \n",
    "    # If it is not a SNP, then assign UNKNOWN.\n",
    "    # TODO: Is this appropriate?\n",
    "    if not v.is_snp:\n",
    "        if is_verbose:\n",
    "            print(\" \".join(str(x) for x in [\"Non-SNP\", \":\", v.CHROM, v.POS, v.num_unknown, v.num_het]))\n",
    "        v.genotypes = [UNK_GENOTYPE] * num_samples\n",
    "        v.genotypes = v.genotypes\n",
    "        continue\n",
    "\n",
    "    # If the depths of all the samples in a site are 0 or -1, then assign UNKNOWN.\n",
    "    # TODO: Ask Ali why total depth can be either 0 or -1,\n",
    "    #       i.e. both ref. depth and alt. depth are either 0 or -1.\n",
    "    if np.all(TOT_DP == 0) or np.all(TOT_DP) == -1:\n",
    "        v.genotypes = [UNK_GENOTYPE] * num_samples\n",
    "        v.genotypes = v.genotypes\n",
    "        continue\n",
    "\n",
    "    # If DP favors REF, then assign REF.\n",
    "    # If DP favors ALT, then assign ALT.\n",
    "    # Otherwise, assign UNKNOWN.\n",
    "    is_refdp_gt_altdp = REF_DP > ALT_DP\n",
    "    is_refdp_lt_altdp = REF_DP < ALT_DP\n",
    "    is_refdp_et_altdp = REF_DP == ALT_DP\n",
    "\n",
    "    is_totdp_zero = TOT_DP == 0\n",
    "    is_totdp_negative_one = TOT_DP == -1\n",
    "    is_unknown = is_refdp_et_altdp | is_totdp_zero | is_totdp_negative_one\n",
    "\n",
    "    for i in np.arange(num_samples):\n",
    "        if is_refdp_gt_altdp[i]:\n",
    "            tmp_gt = REF_GENOTYPE\n",
    "        elif is_refdp_lt_altdp[i]:\n",
    "            tmp_gt = ALT_GENOTYPE\n",
    "        else:\n",
    "            tmp_gt = UNK_GENOTYPE\n",
    "        v.genotypes[i] = tmp_gt\n",
    "        \n",
    "    v.genotypes = v.genotypes\n",
    "\n",
    "    w.write_record(v)\n",
    "\n",
    "w.close()\n",
    "vcf.close()"
   ]
  },
  {
   "cell_type": "code",
   "execution_count": 22,
   "id": "9de94e62",
   "metadata": {},
   "outputs": [
    {
     "name": "stdout",
     "output_type": "stream",
     "text": [
      "1802630\n",
      "1739315\n",
      "63315\n",
      "0\n"
     ]
    }
   ],
   "source": [
    "print(f\"{num_sites}\")\n",
    "print(f\"{num_snps}\")\n",
    "print(f\"{num_indels}\")\n",
    "print(f\"{num_svs}\")"
   ]
  },
  {
   "cell_type": "code",
   "execution_count": null,
   "id": "03e68954",
   "metadata": {},
   "outputs": [],
   "source": []
  }
 ],
 "metadata": {
  "kernelspec": {
   "display_name": "Python 3.8.12 ('tskit-play')",
   "language": "python",
   "name": "python3"
  },
  "language_info": {
   "codemirror_mode": {
    "name": "ipython",
    "version": 3
   },
   "file_extension": ".py",
   "mimetype": "text/x-python",
   "name": "python",
   "nbconvert_exporter": "python",
   "pygments_lexer": "ipython3",
   "version": "3.8.12"
  },
  "vscode": {
   "interpreter": {
    "hash": "eb113df21e86d0d3285e00d2b797ac04a99a0d10196b81a01bbc3abb92b92d53"
   }
  }
 },
 "nbformat": 4,
 "nbformat_minor": 5
}
