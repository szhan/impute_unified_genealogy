{
 "cells": [
  {
   "cell_type": "markdown",
   "id": "3e5febcc",
   "metadata": {},
   "source": [
    "# impute_unified_genealogy"
   ]
  },
  {
   "cell_type": "code",
   "execution_count": null,
   "id": "b11241d0",
   "metadata": {},
   "outputs": [],
   "source": [
    "# python impute_unified_genealogy.py\n",
    "# -t input.trees\n",
    "# -i input vcf (sites to impute)\n",
    "# -o output vcf (imputed sites)"
   ]
  },
  {
   "cell_type": "code",
   "execution_count": null,
   "id": "0aa54846",
   "metadata": {},
   "outputs": [],
   "source": [
    "# Pipeline to impute from modern genomes (unified genealogy) into ancient genomes:\n",
    "# 1. Take the unified whole-genome genealogy from Wohns et al. (2022). DONE\n",
    "# 2. Get an ancestors ts from it. (Keep leaves or not? Try both). DONE\n",
    "# 3. Convert GLIMPSE output BCF to raw input BCF. DONE.\n",
    "# 4. Get `.samples` file from input BCF.\n",
    "# 4. match_samples = output ts\n",
    "# 5. ts.write_vcf()\n",
    "# \n",
    "# Bonus:\n",
    "# Impute from Wohns ts into the new 1KG Project Phase 3 data and evaluate using IQS."
   ]
  },
  {
   "cell_type": "markdown",
   "id": "d86bce4f",
   "metadata": {},
   "source": [
    "### Downloading the unified genealogy"
   ]
  },
  {
   "cell_type": "code",
   "execution_count": null,
   "id": "496ac687",
   "metadata": {},
   "outputs": [],
   "source": [
    "# \"[A] unified tree sequence of 3601 modern and eight high-coverage ancient human genome sequences\n",
    "# compiled from eight datasets. This structure is a lossless and compact representation of\n",
    "# 27 million ancestral haplotype fragments and 231 million ancestral lineages linking genomes\n",
    "# from these datasets back in time.\n",
    "# \n",
    "# Modern genomes:\n",
    "# a. 1000 Genomes\n",
    "# b. Human Genome Diversity\n",
    "# c. Simons Genome Diversity\n",
    "# \n",
    "# Trees:\n",
    "# a. Without ancient genomes (https://zenodo.org/record/5495535#.YuGjXi8w08R)\n",
    "# b. With___ ancient genomes (https://zenodo.org/record/5512994#.YuGj4S8w08R)\n",
    "# \n",
    "# Human reference: GRCh38"
   ]
  },
  {
   "cell_type": "code",
   "execution_count": 1,
   "id": "cda4c280",
   "metadata": {},
   "outputs": [
    {
     "name": "stdout",
     "output_type": "stream",
     "text": [
      "The short arm of chr20 contains 58756 trees.\n",
      "The long arm of chr20 contains 74301 trees.\n"
     ]
    }
   ],
   "source": [
    "import tskit\n",
    "\n",
    "# Load the tree sequences of the p- and q-arms of chr20.\n",
    "data_dir = \"../data/ref_panel/\"\n",
    "\n",
    "contig_id = \"chr20\"\n",
    "\n",
    "ts_p_file = data_dir + \"hgdp_tgp_sgdp_\" + contig_id + \"_\" + \"p\" + \".dated.trees\"\n",
    "ts_q_file = data_dir + \"hgdp_tgp_sgdp_\" + contig_id + \"_\" + \"q\" + \".dated.trees\"\n",
    "\n",
    "import tskit\n",
    "ts_p = tskit.load(ts_p_file)\n",
    "ts_q = tskit.load(ts_q_file)\n",
    "\n",
    "print(f\"The short arm of chr20 contains {ts_p.num_trees} trees.\")\n",
    "print(f\"The long arm of chr20 contains {ts_q.num_trees} trees.\")"
   ]
  },
  {
   "cell_type": "code",
   "execution_count": 2,
   "id": "466ed2fb",
   "metadata": {},
   "outputs": [],
   "source": [
    "import tsinfer\n",
    "\n",
    "ts_p_anc = tsinfer.eval_util.make_ancestors_ts(ts_p)\n",
    "ts_q_anc = tsinfer.eval_util.make_ancestors_ts(ts_q)"
   ]
  },
  {
   "cell_type": "code",
   "execution_count": 2,
   "id": "23031cff",
   "metadata": {},
   "outputs": [],
   "source": [
    "# Simulated data from 48 high coverage shotgun (SG) samples.\n",
    "# \n",
    "# Annotation file:\n",
    "# http://genomebrowser-uploads.hms.harvard.edu/data/aa681/tmp/anno.sim.tsv\n",
    "# \n",
    "# Simulated data files:\n",
    "# http://genomebrowser-uploads.hms.harvard.edu/data/aa681/tmp/simulations.tar\n",
    "# \n",
    "# MD5 checksum:\n",
    "# 3a98628e5c8015b3da4664837568e14c  simulations.tar\n",
    "# e332d36afc87431d08453bc66b0eee28  anno.sim.tsv\n",
    "# \n",
    "# File size:\n",
    "# 8.1K anno.sim.tsv\n",
    "# 166G simulations.tar\n",
    "# \n",
    "# There are 374 bcf files, each with 48 samples.\n",
    "# I have simulated both SG and 1240k for 22 autosomes and for 8 different coverages.\n",
    "# \n",
    "# */merged/{DT}/DP{DP}/chr{CHROM}.bcf\n",
    "# \n",
    "# DT in [SG, 1240k]\n",
    "# DP in [0.01, 0.05, 0.1, 0.2, 0.5, 1, 2, 5]\n",
    "# CHROM in [1,2,...,22]\n",
    "# \n",
    "# Imputed version of the original sample is also available from\n",
    "#   */merged/SG/DPmax/chr{CHROM}.bcf\n",
    "# \n",
    "# All 4 members of Afanasievo family are also included in this list:\n",
    "#   Mother I3388.SG\n",
    "#   Father I3950.SG\n",
    "#   Son 1 I3949.SG\n",
    "#   Son 2 I6714.SG\n",
    "# \n",
    "# Please note that coverage is >20x, except for an individual from Afanasievo family with ~10x coverage (I3388.SG).  \n",
    "# \n",
    "# Imputed file format is BCF with following fields:\n",
    "# \n",
    "# Generated by GLIMPSE:\n",
    "#   GT: Phased and imputed genotypes\n",
    "#   DS: Genotype dosage\n",
    "#   GP: Genotype posteriors\n",
    "#\n",
    "# Generated by genotype caller (mpileup):\n",
    "#   PL: Phred-scaled genotype likelihoods\n",
    "#   AD: Allelic depths (high-quality bases)\n",
    "# \n",
    "# * Note that PL and AD are available when the target variant is covered by at least 1 read otherwise, their value is missed.\n",
    "# * To minimize the reference bias, only PL of SNPs are used to build imputation model for both SNPs and indels.\n",
    "#   Nevertheless, PL and AD for indels are also reported in the output."
   ]
  },
  {
   "cell_type": "code",
   "execution_count": 5,
   "id": "c29081c9",
   "metadata": {},
   "outputs": [],
   "source": [
    "data_dir = \"/Users/szhan/Projects/impute_unified_genealogy/\"\n",
    "bcf_file = data_dir + \"merged/SG/DPmax/\" + \"raw_chr20.bcf\""
   ]
  },
  {
   "cell_type": "code",
   "execution_count": null,
   "id": "492f1cae",
   "metadata": {},
   "outputs": [],
   "source": []
  }
 ],
 "metadata": {
  "kernelspec": {
   "display_name": "Python 3.8.12 ('tskit-play')",
   "language": "python",
   "name": "python3"
  },
  "language_info": {
   "codemirror_mode": {
    "name": "ipython",
    "version": 3
   },
   "file_extension": ".py",
   "mimetype": "text/x-python",
   "name": "python",
   "nbconvert_exporter": "python",
   "pygments_lexer": "ipython3",
   "version": "3.8.12"
  },
  "vscode": {
   "interpreter": {
    "hash": "eb113df21e86d0d3285e00d2b797ac04a99a0d10196b81a01bbc3abb92b92d53"
   }
  }
 },
 "nbformat": 4,
 "nbformat_minor": 5
}
